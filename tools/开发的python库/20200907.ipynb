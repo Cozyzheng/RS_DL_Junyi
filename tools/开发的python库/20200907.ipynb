{
 "metadata": {
  "language_info": {
   "codemirror_mode": {
    "name": "ipython",
    "version": 3
   },
   "file_extension": ".py",
   "mimetype": "text/x-python",
   "name": "python",
   "nbconvert_exporter": "python",
   "pygments_lexer": "ipython3",
   "version": "3.7.9-final"
  },
  "orig_nbformat": 2,
  "kernelspec": {
   "name": "deeplearning",
   "display_name": "'deeplearning'"
  }
 },
 "nbformat": 4,
 "nbformat_minor": 2,
 "cells": [
  {
   "cell_type": "code",
   "execution_count": 12,
   "metadata": {},
   "outputs": [],
   "source": [
    "import cv2 \n",
    "import numpy as np \n",
    "import matplotlib.pyplot as plt \n",
    "from RSjunyi import rs \n",
    "from PIL import Image"
   ]
  },
  {
   "cell_type": "code",
   "execution_count": 25,
   "metadata": {
    "tags": []
   },
   "outputs": [
    {
     "output_type": "stream",
     "name": "stdout",
     "text": "(256, 256, 3)\n(256, 256)\n"
    }
   ],
   "source": [
    "img = Image.open(r\"D:\\Gentry\\Data\\High Resolution RS data\\BDCI2017-jiage-Semi\\training\\Random Generat\\labels\\111.png\").convert('RGB')\n",
    "img = np.array(img)\n",
    "print(img.shape)\n",
    "\n",
    "img2 = cv2.imread(r\"D:\\Gentry\\Data\\High Resolution RS data\\BDCI2017-jiage-Semi\\training\\Random Generat\\labels\\111.png\", cv2.IMREAD_GRAYSCALE)\n",
    "print(img2.shape)\n",
    "\n",
    "\n"
   ]
  }
 ]
}